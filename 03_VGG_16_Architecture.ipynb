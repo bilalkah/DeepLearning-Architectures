{
  "nbformat": 4,
  "nbformat_minor": 0,
  "metadata": {
    "colab": {
      "name": "VGG-16 Architecture.ipynb",
      "provenance": [],
      "collapsed_sections": []
    },
    "kernelspec": {
      "name": "python3",
      "display_name": "Python 3"
    },
    "accelerator": "GPU"
  },
  "cells": [
    {
      "cell_type": "markdown",
      "metadata": {
        "id": "auBs3PVGAJPy",
        "colab_type": "text"
      },
      "source": [
        "# VGG-16 Architecture"
      ]
    },
    {
      "cell_type": "markdown",
      "metadata": {
        "id": "MGCllxRv_wcQ",
        "colab_type": "text"
      },
      "source": [
        "![alt text](https://neurohive.io/wp-content/uploads/2018/11/vgg16-1-e1542731207177.png)"
      ]
    },
    {
      "cell_type": "markdown",
      "metadata": {
        "id": "_B2ukpWiAbgQ",
        "colab_type": "text"
      },
      "source": [
        "## Flattened VGG-16 Architecture"
      ]
    },
    {
      "cell_type": "markdown",
      "metadata": {
        "id": "k0QbWPZ9AoyE",
        "colab_type": "text"
      },
      "source": [
        "![alt text](https://media.geeksforgeeks.org/wp-content/uploads/20200219152327/conv-layers-vgg16-1024x450.jpg)\n",
        "\n",
        "\n",
        "\n"
      ]
    },
    {
      "cell_type": "markdown",
      "metadata": {
        "id": "FvNvWM7wBVl4",
        "colab_type": "text"
      },
      "source": [
        "## VGG-16 Architecture codes using Keras"
      ]
    },
    {
      "cell_type": "code",
      "metadata": {
        "id": "_MXf7ucTSw0i",
        "colab_type": "code",
        "colab": {
          "base_uri": "https://localhost:8080/",
          "height": 34
        },
        "outputId": "da33364c-778c-4afe-89fd-41c08cce7169"
      },
      "source": [
        "from google.colab import drive\n",
        "drive.mount('/content/drive')"
      ],
      "execution_count": 1,
      "outputs": [
        {
          "output_type": "stream",
          "text": [
            "Drive already mounted at /content/drive; to attempt to forcibly remount, call drive.mount(\"/content/drive\", force_remount=True).\n"
          ],
          "name": "stdout"
        }
      ]
    },
    {
      "cell_type": "markdown",
      "metadata": {
        "id": "ciJtdNCBBnZp",
        "colab_type": "text"
      },
      "source": [
        "## Importing required Libraries"
      ]
    },
    {
      "cell_type": "code",
      "metadata": {
        "id": "UUIsM0bWSVfH",
        "colab_type": "code",
        "colab": {}
      },
      "source": [
        "# Importing the required libraries\n",
        "import tensorflow as tf\n",
        "import keras\n",
        "import pandas as pd\n",
        "import numpy as np\n",
        "from keras.models import Sequential\n",
        "from keras.layers import Conv2D, MaxPool2D, Flatten, Dense\n",
        "from keras.preprocessing.image import ImageDataGenerator\n",
        "from keras.preprocessing import image"
      ],
      "execution_count": 15,
      "outputs": []
    },
    {
      "cell_type": "markdown",
      "metadata": {
        "id": "ddZwqikYBsP0",
        "colab_type": "text"
      },
      "source": [
        "## Checking version of keras used"
      ]
    },
    {
      "cell_type": "code",
      "metadata": {
        "id": "T7fp52FaTKjC",
        "colab_type": "code",
        "colab": {
          "base_uri": "https://localhost:8080/",
          "height": 35
        },
        "outputId": "6c3f6d1e-922b-4236-f9d7-883fc356df98"
      },
      "source": [
        "keras.__version__"
      ],
      "execution_count": 3,
      "outputs": [
        {
          "output_type": "execute_result",
          "data": {
            "application/vnd.google.colaboratory.intrinsic": {
              "type": "string"
            },
            "text/plain": [
              "'2.3.1'"
            ]
          },
          "metadata": {
            "tags": []
          },
          "execution_count": 3
        }
      ]
    },
    {
      "cell_type": "markdown",
      "metadata": {
        "id": "2RpLYXQtBv71",
        "colab_type": "text"
      },
      "source": [
        "## Augmenting the training and testing dataset"
      ]
    },
    {
      "cell_type": "code",
      "metadata": {
        "id": "zb12oAbkUGPp",
        "colab_type": "code",
        "colab": {
          "base_uri": "https://localhost:8080/",
          "height": 34
        },
        "outputId": "9b6f1e59-2f8b-456b-f844-8d26cd000970"
      },
      "source": [
        "# Augmenting the Training dataset\n",
        "idg = ImageDataGenerator(zoom_range=0.2, shear_range=0.2, horizontal_flip=True, rescale=1/255.0)\n",
        "training_data = idg.flow_from_directory(r\"/content/drive/My Drive/Pets/training_pets\", target_size = (224, 224))"
      ],
      "execution_count": 4,
      "outputs": [
        {
          "output_type": "stream",
          "text": [
            "Found 246 images belonging to 2 classes.\n"
          ],
          "name": "stdout"
        }
      ]
    },
    {
      "cell_type": "code",
      "metadata": {
        "id": "1ujQ49s2UWIH",
        "colab_type": "code",
        "colab": {
          "base_uri": "https://localhost:8080/",
          "height": 34
        },
        "outputId": "80f80ea3-44cf-4f3b-dce0-158d5dc464a1"
      },
      "source": [
        "# Augmenting the Testing dataset\n",
        "idg = ImageDataGenerator(rescale=1/255.0)\n",
        "testing_data = idg.flow_from_directory(r\"/content/drive/My Drive/Pets/testing_pets\", target_size = (224, 224))"
      ],
      "execution_count": 5,
      "outputs": [
        {
          "output_type": "stream",
          "text": [
            "Found 32 images belonging to 2 classes.\n"
          ],
          "name": "stdout"
        }
      ]
    },
    {
      "cell_type": "markdown",
      "metadata": {
        "id": "Qk9E_ZUWB1Q8",
        "colab_type": "text"
      },
      "source": [
        "## Creation of Model"
      ]
    },
    {
      "cell_type": "code",
      "metadata": {
        "id": "l4M7SLuIUd66",
        "colab_type": "code",
        "colab": {}
      },
      "source": [
        "# Initializing a Sequential model\n",
        "model = Sequential()\n",
        "\n",
        "# Creating first block- (2 Convolution + 1 Max pool)\n",
        "model.add(Conv2D(filters= 64, kernel_size= (3,3), strides= (1,1), padding='same', input_shape= (224, 224, 3), activation= 'relu'))\n",
        "model.add(Conv2D(filters= 64, kernel_size= (3,3), strides= (1,1), padding='same', activation= 'relu'))\n",
        "model.add(MaxPool2D(pool_size= (2,2), strides=(2,2)))\n",
        "\n",
        "# Creating second block- (2 Convolution + 1 Max pool)\n",
        "model.add(Conv2D(filters= 128, kernel_size= (3,3), strides= (1,1), padding='same', activation= 'relu'))\n",
        "model.add(Conv2D(filters= 128, kernel_size= (3,3), strides= (1,1), padding='same', activation= 'relu'))\n",
        "model.add(MaxPool2D(pool_size= (2,2), strides=(2,2)))\n",
        "\n",
        "# Creating third block- (3 Convolution + 1 Max pool)\n",
        "model.add(Conv2D(filters= 256, kernel_size= (3,3), strides= (1,1), padding='same', activation= 'relu'))\n",
        "model.add(Conv2D(filters= 256, kernel_size= (3,3), strides= (1,1), padding='same', activation= 'relu'))\n",
        "model.add(Conv2D(filters= 256, kernel_size= (3,3), strides= (1,1), padding='same', activation= 'relu'))\n",
        "model.add(MaxPool2D(pool_size= (2,2), strides=(2,2)))\n",
        "\n",
        "# Creating fourth block- (3 Convolution + 1 Max pool)\n",
        "model.add(Conv2D(filters= 512, kernel_size= (3,3), strides= (1,1), padding='same', activation= 'relu'))\n",
        "model.add(Conv2D(filters= 512, kernel_size= (3,3), strides= (1,1), padding='same', activation= 'relu'))\n",
        "model.add(Conv2D(filters= 512, kernel_size= (3,3), strides= (1,1), padding='same', activation= 'relu'))\n",
        "model.add(MaxPool2D(pool_size= (2,2), strides=(2,2)))\n",
        "\n",
        "# Creating fifth block- (3 Convolution + 1 Max pool)\n",
        "model.add(Conv2D(filters= 512, kernel_size= (3,3), strides= (1,1), padding='same', activation= 'relu'))\n",
        "model.add(Conv2D(filters= 512, kernel_size= (3,3), strides= (1,1), padding='same', activation= 'relu'))\n",
        "model.add(Conv2D(filters= 512, kernel_size= (3,3), strides= (1,1), padding='same', activation= 'relu'))\n",
        "model.add(MaxPool2D(pool_size= (2,2), strides=(2,2)))\n",
        "\n",
        "# Flattening the pooled image pixels\n",
        "model.add(Flatten())\n",
        "\n",
        "# Creating 2 Dense Layers\n",
        "model.add(Dense(units= 4096, activation='relu'))\n",
        "model.add(Dense(units= 4096, activation='relu'))\n",
        "\n",
        "# Creating an output layer\n",
        "model.add(Dense(units= 2, activation='softmax'))"
      ],
      "execution_count": 32,
      "outputs": []
    },
    {
      "cell_type": "markdown",
      "metadata": {
        "id": "-4gwZYylB_Vl",
        "colab_type": "text"
      },
      "source": [
        "## Summary of Model"
      ]
    },
    {
      "cell_type": "code",
      "metadata": {
        "id": "d9CGxx0uCFUV",
        "colab_type": "code",
        "colab": {
          "base_uri": "https://localhost:8080/",
          "height": 901
        },
        "outputId": "e31d49b0-1f1e-407a-ed8e-bcb4bf2f2360"
      },
      "source": [
        "# Getting the summary of the model\n",
        "model.summary()"
      ],
      "execution_count": 33,
      "outputs": [
        {
          "output_type": "stream",
          "text": [
            "Model: \"sequential_2\"\n",
            "_________________________________________________________________\n",
            "Layer (type)                 Output Shape              Param #   \n",
            "=================================================================\n",
            "conv2d_14 (Conv2D)           (None, 224, 224, 64)      1792      \n",
            "_________________________________________________________________\n",
            "conv2d_15 (Conv2D)           (None, 224, 224, 64)      36928     \n",
            "_________________________________________________________________\n",
            "max_pooling2d_6 (MaxPooling2 (None, 112, 112, 64)      0         \n",
            "_________________________________________________________________\n",
            "conv2d_16 (Conv2D)           (None, 112, 112, 128)     73856     \n",
            "_________________________________________________________________\n",
            "conv2d_17 (Conv2D)           (None, 112, 112, 128)     147584    \n",
            "_________________________________________________________________\n",
            "max_pooling2d_7 (MaxPooling2 (None, 56, 56, 128)       0         \n",
            "_________________________________________________________________\n",
            "conv2d_18 (Conv2D)           (None, 56, 56, 256)       295168    \n",
            "_________________________________________________________________\n",
            "conv2d_19 (Conv2D)           (None, 56, 56, 256)       590080    \n",
            "_________________________________________________________________\n",
            "conv2d_20 (Conv2D)           (None, 56, 56, 256)       590080    \n",
            "_________________________________________________________________\n",
            "max_pooling2d_8 (MaxPooling2 (None, 28, 28, 256)       0         \n",
            "_________________________________________________________________\n",
            "conv2d_21 (Conv2D)           (None, 28, 28, 512)       1180160   \n",
            "_________________________________________________________________\n",
            "conv2d_22 (Conv2D)           (None, 28, 28, 512)       2359808   \n",
            "_________________________________________________________________\n",
            "conv2d_23 (Conv2D)           (None, 28, 28, 512)       2359808   \n",
            "_________________________________________________________________\n",
            "max_pooling2d_9 (MaxPooling2 (None, 14, 14, 512)       0         \n",
            "_________________________________________________________________\n",
            "conv2d_24 (Conv2D)           (None, 14, 14, 512)       2359808   \n",
            "_________________________________________________________________\n",
            "conv2d_25 (Conv2D)           (None, 14, 14, 512)       2359808   \n",
            "_________________________________________________________________\n",
            "conv2d_26 (Conv2D)           (None, 14, 14, 512)       2359808   \n",
            "_________________________________________________________________\n",
            "max_pooling2d_10 (MaxPooling (None, 7, 7, 512)         0         \n",
            "_________________________________________________________________\n",
            "flatten_2 (Flatten)          (None, 25088)             0         \n",
            "_________________________________________________________________\n",
            "dense_4 (Dense)              (None, 4096)              102764544 \n",
            "_________________________________________________________________\n",
            "dense_5 (Dense)              (None, 4096)              16781312  \n",
            "_________________________________________________________________\n",
            "dense_6 (Dense)              (None, 2)                 8194      \n",
            "=================================================================\n",
            "Total params: 134,268,738\n",
            "Trainable params: 134,268,738\n",
            "Non-trainable params: 0\n",
            "_________________________________________________________________\n"
          ],
          "name": "stdout"
        }
      ]
    },
    {
      "cell_type": "markdown",
      "metadata": {
        "id": "p2ZOzFIvCG-s",
        "colab_type": "text"
      },
      "source": [
        "## Compiling & Fitting the model"
      ]
    },
    {
      "cell_type": "code",
      "metadata": {
        "id": "uwjHU1JPUd-K",
        "colab_type": "code",
        "colab": {}
      },
      "source": [
        "# Compiling the model\n",
        "model.compile(optimizer='adam', loss='binary_crossentropy', metrics=['accuracy'])"
      ],
      "execution_count": 7,
      "outputs": []
    },
    {
      "cell_type": "code",
      "metadata": {
        "id": "HMJyLHltUeBZ",
        "colab_type": "code",
        "colab": {
          "base_uri": "https://localhost:8080/",
          "height": 1000
        },
        "outputId": "a5816251-b5ce-47be-c72b-729599e1289e"
      },
      "source": [
        "# Fitting the model\n",
        "result = model.fit_generator(steps_per_epoch=100, generator=training_data, verbose=1, validation_data=testing_data, epochs=50 )"
      ],
      "execution_count": 13,
      "outputs": [
        {
          "output_type": "stream",
          "text": [
            "Epoch 1/50\n",
            "100/100 [==============================] - 91s 913ms/step - loss: 0.6487 - accuracy: 0.6479 - val_loss: 0.7395 - val_accuracy: 0.5000\n",
            "Epoch 2/50\n",
            "100/100 [==============================] - 91s 909ms/step - loss: 0.6511 - accuracy: 0.6448 - val_loss: 0.7331 - val_accuracy: 0.5000\n",
            "Epoch 3/50\n",
            "100/100 [==============================] - 91s 910ms/step - loss: 0.6503 - accuracy: 0.6455 - val_loss: 0.7386 - val_accuracy: 0.5000\n",
            "Epoch 4/50\n",
            "100/100 [==============================] - 91s 908ms/step - loss: 0.6491 - accuracy: 0.6472 - val_loss: 0.7341 - val_accuracy: 0.5000\n",
            "Epoch 5/50\n",
            "100/100 [==============================] - 91s 910ms/step - loss: 0.6504 - accuracy: 0.6461 - val_loss: 0.7389 - val_accuracy: 0.5000\n",
            "Epoch 6/50\n",
            "100/100 [==============================] - 91s 908ms/step - loss: 0.6501 - accuracy: 0.6466 - val_loss: 0.7382 - val_accuracy: 0.5000\n",
            "Epoch 7/50\n",
            "100/100 [==============================] - 91s 907ms/step - loss: 0.6494 - accuracy: 0.6461 - val_loss: 0.7392 - val_accuracy: 0.5000\n",
            "Epoch 8/50\n",
            "100/100 [==============================] - 91s 906ms/step - loss: 0.6505 - accuracy: 0.6466 - val_loss: 0.7368 - val_accuracy: 0.5000\n",
            "Epoch 9/50\n",
            "100/100 [==============================] - 91s 907ms/step - loss: 0.6482 - accuracy: 0.6485 - val_loss: 0.7482 - val_accuracy: 0.5000\n",
            "Epoch 10/50\n",
            "100/100 [==============================] - 91s 913ms/step - loss: 0.6523 - accuracy: 0.6442 - val_loss: 0.7426 - val_accuracy: 0.5000\n",
            "Epoch 11/50\n",
            "100/100 [==============================] - 91s 909ms/step - loss: 0.6487 - accuracy: 0.6464 - val_loss: 0.7398 - val_accuracy: 0.5000\n",
            "Epoch 12/50\n",
            "100/100 [==============================] - 91s 909ms/step - loss: 0.6496 - accuracy: 0.6463 - val_loss: 0.7397 - val_accuracy: 0.5000\n",
            "Epoch 13/50\n",
            "100/100 [==============================] - 91s 909ms/step - loss: 0.6505 - accuracy: 0.6459 - val_loss: 0.7375 - val_accuracy: 0.5000\n",
            "Epoch 14/50\n",
            "100/100 [==============================] - 91s 911ms/step - loss: 0.6498 - accuracy: 0.6468 - val_loss: 0.7358 - val_accuracy: 0.5000\n",
            "Epoch 15/50\n",
            "100/100 [==============================] - 91s 909ms/step - loss: 0.6509 - accuracy: 0.6459 - val_loss: 0.7349 - val_accuracy: 0.5000\n",
            "Epoch 16/50\n",
            "100/100 [==============================] - 91s 912ms/step - loss: 0.6500 - accuracy: 0.6468 - val_loss: 0.7379 - val_accuracy: 0.5000\n",
            "Epoch 17/50\n",
            "100/100 [==============================] - 91s 907ms/step - loss: 0.6505 - accuracy: 0.6472 - val_loss: 0.7430 - val_accuracy: 0.5000\n",
            "Epoch 18/50\n",
            "100/100 [==============================] - 91s 910ms/step - loss: 0.6506 - accuracy: 0.6455 - val_loss: 0.7394 - val_accuracy: 0.5000\n",
            "Epoch 19/50\n",
            "100/100 [==============================] - 91s 910ms/step - loss: 0.6499 - accuracy: 0.6455 - val_loss: 0.7331 - val_accuracy: 0.5000\n",
            "Epoch 20/50\n",
            "100/100 [==============================] - 91s 909ms/step - loss: 0.6501 - accuracy: 0.6472 - val_loss: 0.7348 - val_accuracy: 0.5000\n",
            "Epoch 21/50\n",
            "100/100 [==============================] - 91s 910ms/step - loss: 0.6503 - accuracy: 0.6458 - val_loss: 0.7375 - val_accuracy: 0.5000\n",
            "Epoch 22/50\n",
            "100/100 [==============================] - 91s 908ms/step - loss: 0.6488 - accuracy: 0.6469 - val_loss: 0.7399 - val_accuracy: 0.5000\n",
            "Epoch 23/50\n",
            "100/100 [==============================] - 91s 910ms/step - loss: 0.6511 - accuracy: 0.6464 - val_loss: 0.7334 - val_accuracy: 0.5000\n",
            "Epoch 24/50\n",
            "100/100 [==============================] - 91s 909ms/step - loss: 0.6506 - accuracy: 0.6463 - val_loss: 0.7396 - val_accuracy: 0.5000\n",
            "Epoch 25/50\n",
            "100/100 [==============================] - 91s 910ms/step - loss: 0.6509 - accuracy: 0.6451 - val_loss: 0.7345 - val_accuracy: 0.5000\n",
            "Epoch 26/50\n",
            "100/100 [==============================] - 91s 909ms/step - loss: 0.6493 - accuracy: 0.6476 - val_loss: 0.7345 - val_accuracy: 0.5000\n",
            "Epoch 27/50\n",
            "100/100 [==============================] - 91s 908ms/step - loss: 0.6516 - accuracy: 0.6448 - val_loss: 0.7353 - val_accuracy: 0.5000\n",
            "Epoch 28/50\n",
            "100/100 [==============================] - 91s 908ms/step - loss: 0.6480 - accuracy: 0.6479 - val_loss: 0.7362 - val_accuracy: 0.5000\n",
            "Epoch 29/50\n",
            "100/100 [==============================] - 91s 908ms/step - loss: 0.6511 - accuracy: 0.6456 - val_loss: 0.7338 - val_accuracy: 0.5000\n",
            "Epoch 30/50\n",
            "100/100 [==============================] - 91s 911ms/step - loss: 0.6480 - accuracy: 0.6471 - val_loss: 0.7391 - val_accuracy: 0.5000\n",
            "Epoch 31/50\n",
            "100/100 [==============================] - 91s 908ms/step - loss: 0.6492 - accuracy: 0.6468 - val_loss: 0.7386 - val_accuracy: 0.5000\n",
            "Epoch 32/50\n",
            "100/100 [==============================] - 91s 909ms/step - loss: 0.6499 - accuracy: 0.6459 - val_loss: 0.7406 - val_accuracy: 0.5000\n",
            "Epoch 33/50\n",
            "100/100 [==============================] - 91s 907ms/step - loss: 0.6500 - accuracy: 0.6463 - val_loss: 0.7403 - val_accuracy: 0.5000\n",
            "Epoch 34/50\n",
            "100/100 [==============================] - 91s 910ms/step - loss: 0.6502 - accuracy: 0.6464 - val_loss: 0.7348 - val_accuracy: 0.5000\n",
            "Epoch 35/50\n",
            "100/100 [==============================] - 91s 907ms/step - loss: 0.6498 - accuracy: 0.6471 - val_loss: 0.7386 - val_accuracy: 0.5000\n",
            "Epoch 36/50\n",
            "100/100 [==============================] - 91s 906ms/step - loss: 0.6509 - accuracy: 0.6456 - val_loss: 0.7354 - val_accuracy: 0.5000\n",
            "Epoch 37/50\n",
            "100/100 [==============================] - 91s 907ms/step - loss: 0.6518 - accuracy: 0.6435 - val_loss: 0.7326 - val_accuracy: 0.5000\n",
            "Epoch 38/50\n",
            "100/100 [==============================] - 91s 908ms/step - loss: 0.6498 - accuracy: 0.6492 - val_loss: 0.7410 - val_accuracy: 0.5000\n",
            "Epoch 39/50\n",
            "100/100 [==============================] - 91s 905ms/step - loss: 0.6488 - accuracy: 0.6472 - val_loss: 0.7419 - val_accuracy: 0.5000\n",
            "Epoch 40/50\n",
            "100/100 [==============================] - 91s 908ms/step - loss: 0.6517 - accuracy: 0.6455 - val_loss: 0.7328 - val_accuracy: 0.5000\n",
            "Epoch 41/50\n",
            "100/100 [==============================] - 91s 906ms/step - loss: 0.6502 - accuracy: 0.6453 - val_loss: 0.7392 - val_accuracy: 0.5000\n",
            "Epoch 42/50\n",
            "100/100 [==============================] - 91s 907ms/step - loss: 0.6498 - accuracy: 0.6474 - val_loss: 0.7381 - val_accuracy: 0.5000\n",
            "Epoch 43/50\n",
            "100/100 [==============================] - 91s 907ms/step - loss: 0.6502 - accuracy: 0.6468 - val_loss: 0.7380 - val_accuracy: 0.5000\n",
            "Epoch 44/50\n",
            "100/100 [==============================] - 91s 906ms/step - loss: 0.6509 - accuracy: 0.6459 - val_loss: 0.7351 - val_accuracy: 0.5000\n",
            "Epoch 45/50\n",
            "100/100 [==============================] - 91s 906ms/step - loss: 0.6515 - accuracy: 0.6458 - val_loss: 0.7378 - val_accuracy: 0.5000\n",
            "Epoch 46/50\n",
            "100/100 [==============================] - 91s 907ms/step - loss: 0.6499 - accuracy: 0.6469 - val_loss: 0.7377 - val_accuracy: 0.5000\n",
            "Epoch 47/50\n",
            "100/100 [==============================] - 91s 906ms/step - loss: 0.6510 - accuracy: 0.6445 - val_loss: 0.7350 - val_accuracy: 0.5000\n",
            "Epoch 48/50\n",
            "100/100 [==============================] - 91s 905ms/step - loss: 0.6496 - accuracy: 0.6482 - val_loss: 0.7316 - val_accuracy: 0.5000\n",
            "Epoch 49/50\n",
            "100/100 [==============================] - 91s 907ms/step - loss: 0.6520 - accuracy: 0.6451 - val_loss: 0.7364 - val_accuracy: 0.5000\n",
            "Epoch 50/50\n",
            "100/100 [==============================] - 91s 906ms/step - loss: 0.6486 - accuracy: 0.6476 - val_loss: 0.7350 - val_accuracy: 0.5000\n"
          ],
          "name": "stdout"
        }
      ]
    },
    {
      "cell_type": "markdown",
      "metadata": {
        "id": "4EaJwSdOCMC9",
        "colab_type": "text"
      },
      "source": [
        "## Loading the image for testing"
      ]
    },
    {
      "cell_type": "code",
      "metadata": {
        "id": "DT05-lEOUeEh",
        "colab_type": "code",
        "colab": {
          "base_uri": "https://localhost:8080/",
          "height": 241
        },
        "outputId": "873399aa-2f08-4fae-8173-04ce326fbe51"
      },
      "source": [
        "# Load the testing image\n",
        "test_img = image.load_img(r\"/content/cat.jpg\", target_size=(224,224))\n",
        "test_img"
      ],
      "execution_count": 26,
      "outputs": [
        {
          "output_type": "execute_result",
          "data": {
            "image/png": "[encoded data removed]",
            "text/plain": [
              "<PIL.Image.Image image mode=RGB size=224x224 at 0x7F44F24F0E80>"
            ]
          },
          "metadata": {
            "tags": []
          },
          "execution_count": 26
        }
      ]
    },
    {
      "cell_type": "markdown",
      "metadata": {
        "id": "CaNeOjFzCkEn",
        "colab_type": "text"
      },
      "source": [
        "## Converting the loaded image into array"
      ]
    },
    {
      "cell_type": "code",
      "metadata": {
        "id": "yOEaX1NwUeHt",
        "colab_type": "code",
        "colab": {
          "base_uri": "https://localhost:8080/",
          "height": 34
        },
        "outputId": "c1c886f6-b628-449c-9d91-23b9f22d896e"
      },
      "source": [
        "# Converting image to array\n",
        "test_img = np.asarray(test_img)\n",
        "test_img.shape"
      ],
      "execution_count": 27,
      "outputs": [
        {
          "output_type": "execute_result",
          "data": {
            "text/plain": [
              "(224, 224, 3)"
            ]
          },
          "metadata": {
            "tags": []
          },
          "execution_count": 27
        }
      ]
    },
    {
      "cell_type": "code",
      "metadata": {
        "id": "r0Sc3-eTUeM7",
        "colab_type": "code",
        "colab": {
          "base_uri": "https://localhost:8080/",
          "height": 34
        },
        "outputId": "89f9f5e7-1bc6-4bb1-945f-2829b034b352"
      },
      "source": [
        "test_img = np.expand_dims(test_img, axis=0)\n",
        "test_img.shape"
      ],
      "execution_count": 28,
      "outputs": [
        {
          "output_type": "execute_result",
          "data": {
            "text/plain": [
              "(1, 224, 224, 3)"
            ]
          },
          "metadata": {
            "tags": []
          },
          "execution_count": 28
        }
      ]
    },
    {
      "cell_type": "markdown",
      "metadata": {
        "id": "VVbpSGRlCp7V",
        "colab_type": "text"
      },
      "source": [
        "## Predicting the label of loaded image"
      ]
    },
    {
      "cell_type": "code",
      "metadata": {
        "id": "VyBTXY6vUeRU",
        "colab_type": "code",
        "colab": {}
      },
      "source": [
        "output = model.predict(test_img)"
      ],
      "execution_count": 29,
      "outputs": []
    },
    {
      "cell_type": "code",
      "metadata": {
        "id": "ANTn0QudUeK_",
        "colab_type": "code",
        "colab": {
          "base_uri": "https://localhost:8080/",
          "height": 34
        },
        "outputId": "1bc9e79c-355d-412c-ba29-1b74c7edae34"
      },
      "source": [
        "output"
      ],
      "execution_count": 30,
      "outputs": [
        {
          "output_type": "execute_result",
          "data": {
            "text/plain": [
              "array([[9.9995220e-01, 4.7851096e-05]], dtype=float32)"
            ]
          },
          "metadata": {
            "tags": []
          },
          "execution_count": 30
        }
      ]
    },
    {
      "cell_type": "code",
      "metadata": {
        "id": "Kclep5zd7H15",
        "colab_type": "code",
        "colab": {
          "base_uri": "https://localhost:8080/",
          "height": 34
        },
        "outputId": "e9b4c05d-f751-4bb2-960f-8e751b17af41"
      },
      "source": [
        "if output[0][0] > output[0][1]:\n",
        "  print(\"Cat\")\n",
        "else:\n",
        "  print(\"Dog\")"
      ],
      "execution_count": 31,
      "outputs": [
        {
          "output_type": "stream",
          "text": [
            "Cat\n"
          ],
          "name": "stdout"
        }
      ]
    }
  ]
}
